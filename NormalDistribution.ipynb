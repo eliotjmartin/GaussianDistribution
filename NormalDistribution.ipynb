{
 "cells": [
  {
   "cell_type": "code",
   "execution_count": 4,
   "metadata": {},
   "outputs": [],
   "source": [
    "import numpy as np\n",
    "from scipy.stats import norm       #Our distribution of the day\n",
    "from scipy.integrate import quad   #Numerical Integration method\n",
    "\n",
    "import matplotlib.pyplot as plt    #graphing utility"
   ]
  },
  {
   "cell_type": "markdown",
   "metadata": {},
   "source": [
    "<h1>Let's explore the Gaussian (normal) Distribution</h1>\n",
    "\n",
    "Given the two parameters $\\mu$ and $\\sigma$, the Normal probability density function with center $\\mu$ and standard deviation $\\sigma$ (abbreviated $\\mathcal{N}(\\mu, \\sigma)$ ) has the following formula:\n",
    "\n",
    "$$\n",
    "P(x) = \\frac{1}{\\sqrt{2 \\pi \\sigma^2}} e^{-\\frac{(x-\\mu)^2}{2\\sigma^2}}.\n",
    "$$\n",
    "\n",
    "When $\\mu = 0$ and $\\sigma = 1$, we have the *Standard* Normal Distribution $\\mathcal{N}(0,1)$."
   ]
  },
  {
   "cell_type": "markdown",
   "metadata": {},
   "source": [
    "First, let's create a python function that inputs an array of numbers, and outputs an array of their *standardized* values. \n",
    "\n",
    "We can test the function by generating 1000 samples from a $\\mathcal{N}(\\mu,\\sigma)$ distribution where $\\mu$ is a random number (unknown to us) from the interval $[10,50)$ and $\\sigma$ is a random number from the interval $[2,10)$. Then, let's use our function to standardize the data and make a histogram featuring both the original and standardized data."
   ]
  },
  {
   "cell_type": "code",
   "execution_count": 9,
   "metadata": {},
   "outputs": [],
   "source": [
    "def standardize(arr):\n",
    "    ''' \n",
    "    Given numbers array return array in standard units\n",
    "    '''\n",
    "    z = (arr - np.mean(arr)) / np.std(arr)\n",
    "    return z"
   ]
  },
  {
   "cell_type": "code",
   "execution_count": 10,
   "metadata": {},
   "outputs": [
    {
     "name": "stdout",
     "output_type": "stream",
     "text": [
      "The mean of the dataset is 43.06 with a standard deviation of 3.03.\n",
      "\n",
      "The mean of the normalized dataset is 0.0 with a standard deviation of 1.0.\n",
      "\n"
     ]
    }
   ],
   "source": [
    "n = 1000\n",
    "standard = np.random.randn(n)  # 1000 samples from standard normal distribution\n",
    "mu = np.random.randint(10, 50)  # generate random mean from the interval [10,50)\n",
    "std = np.random.randint(2, 10)  # generate random standard deviation from the interval [2,10)\n",
    "shift_norm = std * standard + mu\n",
    "\n",
    "print(f'The mean of the dataset is {np.round(shift_norm.mean(),2)} with a standard deviation of {np.round(shift_norm.std(ddof=1),2)}.\\n')\n",
    "z = standardize(shift_norm)\n",
    "print(f'The mean of the normalized dataset is {np.round(z.mean(),2)} with a standard deviation of {np.round(z.std(ddof=1),2)}.\\n')"
   ]
  },
  {
   "cell_type": "code",
   "execution_count": 11,
   "metadata": {},
   "outputs": [
    {
     "data": {
      "image/png": "[encoded data removed]",
      "text/plain": [
       "<Figure size 720x720 with 1 Axes>"
      ]
     },
     "metadata": {
      "needs_background": "light"
     },
     "output_type": "display_data"
    }
   ],
   "source": [
    "plt.figure(figsize = (10,10))\n",
    "\n",
    "plt.hist(standard, bins  = 100, color  = 'salmon', label = 'standard normal')\n",
    "\n",
    "plt.hist(shift_norm, bins  = 100, alpha  = 0.5, color  = 'darkgreen', label = 'gauss')\n",
    "\n",
    "\n",
    "plt.legend(fontsize = 15)\n",
    "\n",
    "plt.title(\"Gaussian Distributions Histogram\\n\", fontsize=25)\n",
    "\n",
    "plt.xlabel(\"\\n x values\", fontsize=20)\n",
    "plt.ylabel(\"\\n Frequency\", fontsize=20)\n",
    "\n",
    "plt.tick_params(direction='out', length=10)\n",
    "\n",
    "plt.xticks(fontsize=15, rotation=90)\n",
    "plt.yticks(fontsize=15, rotation=0)\n",
    "\n",
    "plt.show()"
   ]
  },
  {
   "cell_type": "markdown",
   "metadata": {},
   "source": [
    "A common \"rule of thumb\" states that Normally distributed data has the property that:\n",
    "\n",
    "- $68\\%$ of the data is within one standard deviation of the mean.\n",
    "\n",
    "- $95\\%$ of the data is within two standard deviations of the mean.\n",
    "\n",
    "- $99.7 \\%$ of the data is within three standard deviations of the mean.\n",
    "\n",
    "We can empirically verify this rule by generating 1000 random points from the *Standard* Normal Distribution, and checking the proportion that fall within the given intervals."
   ]
  },
  {
   "cell_type": "markdown",
   "metadata": {},
   "source": [
    "To verify the above rule, lets calculate the following:\n",
    "\n",
    "- what percent of data is (greater than -1 standard deviation from the mean) and (less than 1 standard deviation from the mean)?\n",
    "- what percent of data is (greater than -2 standard deviations from the mean) and (less than 2 standard deviations from the mean)?\n",
    "- what percent of data is (greater than -3 standard deviations from the mean) and (less than 3 standard deviations from the mean)?\n",
    "\n",
    "We can calculate this using boolean logic as shown below"
   ]
  },
  {
   "cell_type": "code",
   "execution_count": 12,
   "metadata": {},
   "outputs": [
    {
     "name": "stdout",
     "output_type": "stream",
     "text": [
      "The percent of data within 1 standard deviation of the mean: 67.6\n",
      "The percent of data within 2 standard deviations of the mean: 96.2\n",
      "The percent of data within 3 standard deviations of the mean: 99.8\n"
     ]
    }
   ],
   "source": [
    "points = 1000\n",
    "normal = np.random.randn(points)  # generate points\n",
    "normal_std = np.std(normal)  # standard deviation of points\n",
    "normal_mean = np.mean(normal)  # mean of points\n",
    "\n",
    "# for each point, if the point is greater than 1 standard deviation below mean and is also less than 1 standard deviation \n",
    "# above the mean, point evaluates to True; else False\n",
    "one = (-1*normal_std + normal_mean < normal) & (1*normal_std + normal_mean > normal) \n",
    "\n",
    "# for each point, if the point is greater than 2 standard deviations below mean and is also less than 2 standard deviations \n",
    "# above the mean, point evaluates to True; else False\n",
    "two = (-2*normal_std + normal_mean < normal) & (2*normal_std + normal_mean > normal)\n",
    "\n",
    "# for each point, if the point is greater than 3 standard deviations below mean and is also less than 3 standard deviations \n",
    "# above the mean, point evaluates to True; else False\n",
    "three = (-3*normal_std + normal_mean < normal) & (3*normal_std + normal_mean > normal)\n",
    "\n",
    "# since True=1 and False=0, we can sum the array and divide by 1000 to get a proportion. Then convert to percent by multiplying\n",
    "# proportion by 100\n",
    "print(f\"The percent of data within 1 standard deviation of the mean: {100 * sum(one)/points}\")\n",
    "print(f\"The percent of data within 2 standard deviations of the mean: {100 * sum(two)/points}\")\n",
    "print(f\"The percent of data within 3 standard deviations of the mean: {100 * sum(three)/points}\")"
   ]
  },
  {
   "cell_type": "markdown",
   "metadata": {},
   "source": [
    "The above percents clearly verify the rule of thumb."
   ]
  },
  {
   "cell_type": "markdown",
   "metadata": {},
   "source": [
    "<b>We can also use integration to verify the above rules of thumb on the *Standard* Normal Distribution.</b>"
   ]
  },
  {
   "cell_type": "markdown",
   "metadata": {},
   "source": [
    "We can find the probability of an event occuring within a range by integrating on a definite integral. We will need to integrate the normal probability density function\n",
    "$$\n",
    "P(x) = \\frac{1}{\\sqrt{2 \\pi \\sigma^2}} e^{-\\frac{(x-\\mu)^2}{2\\sigma^2}}.\n",
    "$$\n",
    "from -1 to 1, -2 to 2, and -3 to 3 in order to verify the numbers we got above."
   ]
  },
  {
   "cell_type": "markdown",
   "metadata": {},
   "source": [
    "Because we know mu = 0 and the standard deviation is 1, we can simplify as follows:\n",
    "$$\n",
    "P(x) = \\frac{1}{\\sqrt{2 \\pi}} e^{\\frac{(-x)^2}{2}}.\n",
    "$$\n",
    "    \n",
    "Now lets implement this as a Python function."
   ]
  },
  {
   "cell_type": "code",
   "execution_count": 13,
   "metadata": {},
   "outputs": [],
   "source": [
    "def integrate_normal(arr):\n",
    "    \"\"\" \n",
    "    Our normal probability density function\n",
    "    \n",
    "    Return (1/(2pi ^ 0.5)) * e ^ ((-x^2)/2)\n",
    "    \"\"\"\n",
    "    c = 1 / np.sqrt(2 * np.pi)\n",
    "    return (c * np.exp((-arr**2) / 2)) # np.exp(x) == e^x\n"
   ]
  },
  {
   "cell_type": "markdown",
   "metadata": {},
   "source": [
    "Now we can integrate using the quad function in order to find the percent of data that falls in each interval of the density function:"
   ]
  },
  {
   "cell_type": "code",
   "execution_count": 14,
   "metadata": {},
   "outputs": [
    {
     "name": "stdout",
     "output_type": "stream",
     "text": [
      "Percent of data within 1 standard deviation from the mean: 68.27%\n",
      "Percent of data within 1 standard deviation from the mean: 95.45%\n",
      "Percent of data within 1 standard deviation from the mean: 99.73%\n"
     ]
    }
   ],
   "source": [
    "print(f\"Percent of data within 1 standard deviation from the mean: {round(100*quad(integrate_normal, -1, 1)[0], 2)}%\")\n",
    "print(f\"Percent of data within 1 standard deviation from the mean: {round(100*quad(integrate_normal, -2, 2)[0], 2)}%\")\n",
    "print(f\"Percent of data within 1 standard deviation from the mean: {round(100*quad(integrate_normal, -3, 3)[0], 2)}%\")"
   ]
  },
  {
   "cell_type": "markdown",
   "metadata": {},
   "source": [
    "The numbers calculated by integrating are roughly the same as what we got by simulating. Thus, we have verified our rule of thumb!"
   ]
  },
  {
   "cell_type": "code",
   "execution_count": null,
   "metadata": {},
   "outputs": [],
   "source": []
  }
 ],
 "metadata": {
  "kernelspec": {
   "display_name": "Python 3 (ipykernel)",
   "language": "python",
   "name": "python3"
  },
  "language_info": {
   "codemirror_mode": {
    "name": "ipython",
    "version": 3
   },
   "file_extension": ".py",
   "mimetype": "text/x-python",
   "name": "python",
   "nbconvert_exporter": "python",
   "pygments_lexer": "ipython3",
   "version": "3.9.5"
  }
 },
 "nbformat": 4,
 "nbformat_minor": 4
}
